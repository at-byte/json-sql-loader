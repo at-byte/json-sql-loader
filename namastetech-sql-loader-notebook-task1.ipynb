{
 "cells": [
  {
   "cell_type": "code",
   "execution_count": 1,
   "metadata": {},
   "outputs": [
    {
     "name": "stdout",
     "output_type": "stream",
     "text": [
      "Requirement already satisfied: pandas in /usr/local/Cellar/jupyterlab/2.2.8/libexec/lib/python3.8/site-packages (1.1.2)\n",
      "Requirement already satisfied: pytz>=2017.2 in /usr/local/Cellar/jupyterlab/2.2.8/libexec/lib/python3.8/site-packages (from pandas) (2020.1)\n",
      "Requirement already satisfied: numpy>=1.15.4 in /usr/local/Cellar/jupyterlab/2.2.8/libexec/lib/python3.8/site-packages (from pandas) (1.19.2)\n",
      "Requirement already satisfied: python-dateutil>=2.7.3 in /usr/local/Cellar/jupyterlab/2.2.8/libexec/lib/python3.8/site-packages (from pandas) (2.8.1)\n",
      "Requirement already satisfied: six>=1.5 in /usr/local/Cellar/jupyterlab/2.2.8/libexec/lib/python3.8/site-packages (from python-dateutil>=2.7.3->pandas) (1.15.0)\n",
      "Requirement already satisfied: pyodbc in /usr/local/Cellar/jupyterlab/2.2.8/libexec/lib/python3.8/site-packages (4.0.30)\n",
      "Requirement already satisfied: sqlalchemy in /usr/local/Cellar/jupyterlab/2.2.8/libexec/lib/python3.8/site-packages (1.3.19)\n"
     ]
    }
   ],
   "source": [
    "import sys\n",
    "!{sys.executable} -m pip install pandas\n",
    "!{sys.executable} -m pip install pyodbc\n",
    "!{sys.executable} -m pip install sqlalchemy"
   ]
  },
  {
   "cell_type": "code",
   "execution_count": 2,
   "metadata": {},
   "outputs": [],
   "source": [
    "#import libraries\\n\",\n",
    "\n",
    "import json\n",
    "import pandas as pd\n",
    "import requests\n",
    "import pyodbc as odbc\n",
    "from datetime import datetime\n",
    "from sqlalchemy import create_engine\n",
    "import sqlalchemy\n",
    "pd.options.mode.chained_assignment = None"
   ]
  },
  {
   "cell_type": "code",
   "execution_count": 3,
   "metadata": {},
   "outputs": [],
   "source": [
    "#load json object\n",
    "\n",
    "order_json_url = 'https://raw.githubusercontent.com/namasteTechnologies/data-analyst-challenge/master/orders.json'\n",
    "\n",
    "d = json.loads(requests.get(order_json_url).text)"
   ]
  },
  {
   "cell_type": "markdown",
   "metadata": {},
   "source": [
    "Please enter the DB details in the cell below. Check the Readme for the details about the DB connection. The below connection should work on local MSSQL server(2017) instance."
   ]
  },
  {
   "cell_type": "code",
   "execution_count": 4,
   "metadata": {},
   "outputs": [],
   "source": [
    "#Create MS-SQL DB Connection \n",
    "#url_db = 'mssql+pyodbc://<username>:<password>@<db_host>/<db_name>?driver=ODBC+Driver+17+for+SQL+Server'\n",
    "url_db = 'mssql+pyodbc://localhost/NamasteTechDw?driver=ODBC+Driver+17+for+SQL+Server'\n",
    "engine = sqlalchemy.create_engine(url_db)\n"
   ]
  },
  {
   "cell_type": "code",
   "execution_count": 5,
   "metadata": {},
   "outputs": [
    {
     "data": {
      "text/html": [
       "<div>\n",
       "<style scoped>\n",
       "    .dataframe tbody tr th:only-of-type {\n",
       "        vertical-align: middle;\n",
       "    }\n",
       "\n",
       "    .dataframe tbody tr th {\n",
       "        vertical-align: top;\n",
       "    }\n",
       "\n",
       "    .dataframe thead th {\n",
       "        text-align: right;\n",
       "    }\n",
       "</style>\n",
       "<table border=\"1\" class=\"dataframe\">\n",
       "  <thead>\n",
       "    <tr style=\"text-align: right;\">\n",
       "      <th></th>\n",
       "      <th>id</th>\n",
       "      <th>total_price</th>\n",
       "      <th>created_at</th>\n",
       "      <th>line_items</th>\n",
       "      <th>customer.id</th>\n",
       "      <th>customer.name</th>\n",
       "      <th>customer.email</th>\n",
       "      <th>createddate</th>\n",
       "      <th>datekey</th>\n",
       "      <th>currencykey</th>\n",
       "    </tr>\n",
       "  </thead>\n",
       "  <tbody>\n",
       "    <tr>\n",
       "      <th>0</th>\n",
       "      <td>8369263756632563</td>\n",
       "      <td>79.39</td>\n",
       "      <td>2020-03-07T14:31:11Z</td>\n",
       "      <td>[{'id': 610448, 'product_id': 632910392, 'prod...</td>\n",
       "      <td>47178</td>\n",
       "      <td>William Doe</td>\n",
       "      <td>william.doe@gmail.com</td>\n",
       "      <td>2020-03-07 14:31:11+00:00</td>\n",
       "      <td>20200307</td>\n",
       "      <td>2</td>\n",
       "    </tr>\n",
       "    <tr>\n",
       "      <th>1</th>\n",
       "      <td>7262170348080494</td>\n",
       "      <td>86.98</td>\n",
       "      <td>2020-03-01T09:16:30Z</td>\n",
       "      <td>[{'id': 997208, 'product_id': 278266679, 'prod...</td>\n",
       "      <td>94720</td>\n",
       "      <td>Emile Tumson</td>\n",
       "      <td>emile.tumson@gmail.com</td>\n",
       "      <td>2020-03-01 09:16:30+00:00</td>\n",
       "      <td>20200301</td>\n",
       "      <td>2</td>\n",
       "    </tr>\n",
       "  </tbody>\n",
       "</table>\n",
       "</div>"
      ],
      "text/plain": [
       "                 id  total_price            created_at  \\\n",
       "0  8369263756632563        79.39  2020-03-07T14:31:11Z   \n",
       "1  7262170348080494        86.98  2020-03-01T09:16:30Z   \n",
       "\n",
       "                                          line_items  customer.id  \\\n",
       "0  [{'id': 610448, 'product_id': 632910392, 'prod...        47178   \n",
       "1  [{'id': 997208, 'product_id': 278266679, 'prod...        94720   \n",
       "\n",
       "  customer.name          customer.email               createddate   datekey  \\\n",
       "0   William Doe   william.doe@gmail.com 2020-03-07 14:31:11+00:00  20200307   \n",
       "1  Emile Tumson  emile.tumson@gmail.com 2020-03-01 09:16:30+00:00  20200301   \n",
       "\n",
       "  currencykey  \n",
       "0           2  \n",
       "1           2  "
      ]
     },
     "execution_count": 5,
     "metadata": {},
     "output_type": "execute_result"
    }
   ],
   "source": [
    "# json data into dataframe with customer details\n",
    "\n",
    "data = pd.json_normalize(d)\n",
    "\n",
    "data['createddate'] = pd.to_datetime(data['created_at'])\n",
    "\n",
    "data['datekey'] = data.createddate.apply(lambda x: x.strftime('%Y%m%d')).astype(int)\n",
    "\n",
    "data['currencykey'] = '2' \n",
    "\n",
    "data.head(2)"
   ]
  },
  {
   "cell_type": "code",
   "execution_count": 6,
   "metadata": {},
   "outputs": [
    {
     "data": {
      "text/html": [
       "<div>\n",
       "<style scoped>\n",
       "    .dataframe tbody tr th:only-of-type {\n",
       "        vertical-align: middle;\n",
       "    }\n",
       "\n",
       "    .dataframe tbody tr th {\n",
       "        vertical-align: top;\n",
       "    }\n",
       "\n",
       "    .dataframe thead th {\n",
       "        text-align: right;\n",
       "    }\n",
       "</style>\n",
       "<table border=\"1\" class=\"dataframe\">\n",
       "  <thead>\n",
       "    <tr style=\"text-align: right;\">\n",
       "      <th></th>\n",
       "      <th>od_id</th>\n",
       "      <th>od_product_id</th>\n",
       "      <th>od_product_sku</th>\n",
       "      <th>od_product_name</th>\n",
       "      <th>od_price</th>\n",
       "      <th>id</th>\n",
       "      <th>total_price</th>\n",
       "      <th>created_at</th>\n",
       "      <th>createddate</th>\n",
       "      <th>datekey</th>\n",
       "      <th>currencykey</th>\n",
       "    </tr>\n",
       "  </thead>\n",
       "  <tbody>\n",
       "    <tr>\n",
       "      <th>0</th>\n",
       "      <td>610448</td>\n",
       "      <td>632910392</td>\n",
       "      <td>PPLEPUNCH20-05</td>\n",
       "      <td>Purple Punch 2.0 Dried Flower</td>\n",
       "      <td>29.40</td>\n",
       "      <td>8369263756632563</td>\n",
       "      <td>79.39</td>\n",
       "      <td>2020-03-07T14:31:11Z</td>\n",
       "      <td>2020-03-07 14:31:11+00:00</td>\n",
       "      <td>20200307</td>\n",
       "      <td>2</td>\n",
       "    </tr>\n",
       "    <tr>\n",
       "      <th>1</th>\n",
       "      <td>997208</td>\n",
       "      <td>278266679</td>\n",
       "      <td>GPSTASH-01</td>\n",
       "      <td>Grandpa's Stash Dried Flower</td>\n",
       "      <td>49.99</td>\n",
       "      <td>8369263756632563</td>\n",
       "      <td>79.39</td>\n",
       "      <td>2020-03-07T14:31:11Z</td>\n",
       "      <td>2020-03-07 14:31:11+00:00</td>\n",
       "      <td>20200307</td>\n",
       "      <td>2</td>\n",
       "    </tr>\n",
       "  </tbody>\n",
       "</table>\n",
       "</div>"
      ],
      "text/plain": [
       "    od_id  od_product_id  od_product_sku                od_product_name  \\\n",
       "0  610448      632910392  PPLEPUNCH20-05  Purple Punch 2.0 Dried Flower   \n",
       "1  997208      278266679      GPSTASH-01   Grandpa's Stash Dried Flower   \n",
       "\n",
       "   od_price                id total_price            created_at  \\\n",
       "0     29.40  8369263756632563       79.39  2020-03-07T14:31:11Z   \n",
       "1     49.99  8369263756632563       79.39  2020-03-07T14:31:11Z   \n",
       "\n",
       "                createddate   datekey currencykey  \n",
       "0 2020-03-07 14:31:11+00:00  20200307           2  \n",
       "1 2020-03-07 14:31:11+00:00  20200307           2  "
      ]
     },
     "execution_count": 6,
     "metadata": {},
     "output_type": "execute_result"
    }
   ],
   "source": [
    "# json data into dataframe with product details\n",
    "\n",
    "df = pd.json_normalize(d,'line_items', ['id','total_price','created_at'],record_prefix='od_')\n",
    "\n",
    "df['createddate'] = pd.to_datetime(df['created_at'])\n",
    "\n",
    "df['datekey'] = df.createddate.apply(lambda x: x.strftime('%Y%m%d')).astype(int)\n",
    "\n",
    "df['currencykey'] = '2'\n",
    "\n",
    "df.head(2)"
   ]
  },
  {
   "cell_type": "code",
   "execution_count": 7,
   "metadata": {},
   "outputs": [
    {
     "data": {
      "text/html": [
       "<div>\n",
       "<style scoped>\n",
       "    .dataframe tbody tr th:only-of-type {\n",
       "        vertical-align: middle;\n",
       "    }\n",
       "\n",
       "    .dataframe tbody tr th {\n",
       "        vertical-align: top;\n",
       "    }\n",
       "\n",
       "    .dataframe thead th {\n",
       "        text-align: right;\n",
       "    }\n",
       "</style>\n",
       "<table border=\"1\" class=\"dataframe\">\n",
       "  <thead>\n",
       "    <tr style=\"text-align: right;\">\n",
       "      <th></th>\n",
       "      <th>CustomerId</th>\n",
       "      <th>CustomerName</th>\n",
       "      <th>CustomerEmail</th>\n",
       "    </tr>\n",
       "  </thead>\n",
       "  <tbody>\n",
       "    <tr>\n",
       "      <th>17</th>\n",
       "      <td>23955</td>\n",
       "      <td>Daniel Smith</td>\n",
       "      <td>daniel.smith@gmail.com</td>\n",
       "    </tr>\n",
       "    <tr>\n",
       "      <th>0</th>\n",
       "      <td>47178</td>\n",
       "      <td>William Doe</td>\n",
       "      <td>william.doe@gmail.com</td>\n",
       "    </tr>\n",
       "  </tbody>\n",
       "</table>\n",
       "</div>"
      ],
      "text/plain": [
       "    CustomerId  CustomerName           CustomerEmail\n",
       "17       23955  Daniel Smith  daniel.smith@gmail.com\n",
       "0        47178   William Doe   william.doe@gmail.com"
      ]
     },
     "execution_count": 7,
     "metadata": {},
     "output_type": "execute_result"
    }
   ],
   "source": [
    "# customer table - dimension\n",
    "\n",
    "headers = [\"CustomerId\", \"CustomerName\", \"CustomerEmail\"]\n",
    "\n",
    "df_customer = data [['customer.id', 'customer.name', 'customer.email']].sort_values(by=['customer.id']).drop_duplicates()\n",
    "\n",
    "df_customer.columns = headers\n",
    "\n",
    "df_customer.head(2)"
   ]
  },
  {
   "cell_type": "code",
   "execution_count": 8,
   "metadata": {},
   "outputs": [
    {
     "data": {
      "text/html": [
       "<div>\n",
       "<style scoped>\n",
       "    .dataframe tbody tr th:only-of-type {\n",
       "        vertical-align: middle;\n",
       "    }\n",
       "\n",
       "    .dataframe tbody tr th {\n",
       "        vertical-align: top;\n",
       "    }\n",
       "\n",
       "    .dataframe thead th {\n",
       "        text-align: right;\n",
       "    }\n",
       "</style>\n",
       "<table border=\"1\" class=\"dataframe\">\n",
       "  <thead>\n",
       "    <tr style=\"text-align: right;\">\n",
       "      <th></th>\n",
       "      <th>ProductId</th>\n",
       "      <th>ProductSku</th>\n",
       "      <th>ProductName</th>\n",
       "    </tr>\n",
       "  </thead>\n",
       "  <tbody>\n",
       "    <tr>\n",
       "      <th>33</th>\n",
       "      <td>278266679</td>\n",
       "      <td>GPSTASH-01</td>\n",
       "      <td>Grandpa's Stash Dried Flower</td>\n",
       "    </tr>\n",
       "    <tr>\n",
       "      <th>26</th>\n",
       "      <td>477365777</td>\n",
       "      <td>GOGPR-07</td>\n",
       "      <td>Glueberry OG Pre-Rolls</td>\n",
       "    </tr>\n",
       "  </tbody>\n",
       "</table>\n",
       "</div>"
      ],
      "text/plain": [
       "    ProductId  ProductSku                   ProductName\n",
       "33  278266679  GPSTASH-01  Grandpa's Stash Dried Flower\n",
       "26  477365777    GOGPR-07        Glueberry OG Pre-Rolls"
      ]
     },
     "execution_count": 8,
     "metadata": {},
     "output_type": "execute_result"
    }
   ],
   "source": [
    "# product dimension\n",
    "\n",
    "df_product = df[['od_product_id','od_product_sku','od_product_name']].sort_values(by=['od_product_id']).drop_duplicates()\n",
    "\n",
    "headers = [\"ProductId\",\"ProductSku\",\"ProductName\"]\n",
    "\n",
    "df_product.columns = headers\n",
    "\n",
    "df_product=df_product.drop_duplicates()\n",
    "\n",
    "df_product.head(2)"
   ]
  },
  {
   "cell_type": "code",
   "execution_count": 9,
   "metadata": {},
   "outputs": [],
   "source": [
    "#find exchange rate function to call api to get rate from USD to CAD\n",
    "\n",
    "def conversion(date):\n",
    "    \n",
    "    payload = {'symbols': 'CAD', 'base': 'USD'}\n",
    "  \n",
    "    url = 'https://api.exchangeratesapi.io/' + str(date).strip()\n",
    "  \n",
    "    r = requests.get(url, params=payload)\n",
    "    data = r.json()\n",
    "  \n",
    "    conversion_rate = data['rates']['CAD']\n",
    "    \n",
    "    return(conversion_rate)\n"
   ]
  },
  {
   "cell_type": "code",
   "execution_count": 10,
   "metadata": {},
   "outputs": [],
   "source": [
    "# dataframe to store exchange rate\n",
    "\n",
    "df_orderdates = data[['created_at','createddate','datekey','currencykey']].sort_values(by=['created_at']).drop_duplicates()\n",
    "\n",
    "df_orderdates['exchangedate'] = pd.to_datetime(df_orderdates['createddate']).dt.date\n",
    "\n",
    "df_exchange = df_orderdates[['datekey','exchangedate','currencykey']]\n",
    "\n",
    "df_exchange['exchangerate'] = df_orderdates['exchangedate'].apply(conversion)\n",
    "df_exchange = df_exchange.drop_duplicates()\n"
   ]
  },
  {
   "cell_type": "code",
   "execution_count": 11,
   "metadata": {},
   "outputs": [
    {
     "data": {
      "text/html": [
       "<div>\n",
       "<style scoped>\n",
       "    .dataframe tbody tr th:only-of-type {\n",
       "        vertical-align: middle;\n",
       "    }\n",
       "\n",
       "    .dataframe tbody tr th {\n",
       "        vertical-align: top;\n",
       "    }\n",
       "\n",
       "    .dataframe thead th {\n",
       "        text-align: right;\n",
       "    }\n",
       "</style>\n",
       "<table border=\"1\" class=\"dataframe\">\n",
       "  <thead>\n",
       "    <tr style=\"text-align: right;\">\n",
       "      <th></th>\n",
       "      <th>datekey</th>\n",
       "      <th>exchangedate</th>\n",
       "      <th>currencykey</th>\n",
       "      <th>exchangerate</th>\n",
       "    </tr>\n",
       "  </thead>\n",
       "  <tbody>\n",
       "    <tr>\n",
       "      <th>2</th>\n",
       "      <td>20200101</td>\n",
       "      <td>2020-01-01</td>\n",
       "      <td>2</td>\n",
       "      <td>1.299448</td>\n",
       "    </tr>\n",
       "    <tr>\n",
       "      <th>14</th>\n",
       "      <td>20200105</td>\n",
       "      <td>2020-01-05</td>\n",
       "      <td>2</td>\n",
       "      <td>1.298197</td>\n",
       "    </tr>\n",
       "  </tbody>\n",
       "</table>\n",
       "</div>"
      ],
      "text/plain": [
       "     datekey exchangedate currencykey  exchangerate\n",
       "2   20200101   2020-01-01           2      1.299448\n",
       "14  20200105   2020-01-05           2      1.298197"
      ]
     },
     "execution_count": 11,
     "metadata": {},
     "output_type": "execute_result"
    }
   ],
   "source": [
    "#dataframe to store exchangerate\n",
    "\n",
    "df_exchange.head(2)"
   ]
  },
  {
   "cell_type": "code",
   "execution_count": 12,
   "metadata": {},
   "outputs": [
    {
     "data": {
      "text/html": [
       "<div>\n",
       "<style scoped>\n",
       "    .dataframe tbody tr th:only-of-type {\n",
       "        vertical-align: middle;\n",
       "    }\n",
       "\n",
       "    .dataframe tbody tr th {\n",
       "        vertical-align: top;\n",
       "    }\n",
       "\n",
       "    .dataframe thead th {\n",
       "        text-align: right;\n",
       "    }\n",
       "</style>\n",
       "<table border=\"1\" class=\"dataframe\">\n",
       "  <thead>\n",
       "    <tr style=\"text-align: right;\">\n",
       "      <th></th>\n",
       "      <th>orderid</th>\n",
       "      <th>customerid</th>\n",
       "      <th>total_price</th>\n",
       "      <th>orderdatetime</th>\n",
       "      <th>datekey</th>\n",
       "      <th>currencykey</th>\n",
       "    </tr>\n",
       "  </thead>\n",
       "  <tbody>\n",
       "    <tr>\n",
       "      <th>18</th>\n",
       "      <td>1104846479586545</td>\n",
       "      <td>94720</td>\n",
       "      <td>86.98</td>\n",
       "      <td>2020-02-22 21:44:05+00:00</td>\n",
       "      <td>20200222</td>\n",
       "      <td>2</td>\n",
       "    </tr>\n",
       "    <tr>\n",
       "      <th>17</th>\n",
       "      <td>1288301820842508</td>\n",
       "      <td>23955</td>\n",
       "      <td>29.40</td>\n",
       "      <td>2020-01-19 03:53:34+00:00</td>\n",
       "      <td>20200119</td>\n",
       "      <td>2</td>\n",
       "    </tr>\n",
       "  </tbody>\n",
       "</table>\n",
       "</div>"
      ],
      "text/plain": [
       "             orderid  customerid  total_price             orderdatetime  \\\n",
       "18  1104846479586545       94720        86.98 2020-02-22 21:44:05+00:00   \n",
       "17  1288301820842508       23955        29.40 2020-01-19 03:53:34+00:00   \n",
       "\n",
       "     datekey currencykey  \n",
       "18  20200222           2  \n",
       "17  20200119           2  "
      ]
     },
     "execution_count": 12,
     "metadata": {},
     "output_type": "execute_result"
    }
   ],
   "source": [
    "#orders dataframe\n",
    "\n",
    "df_orders = data[['id', 'customer.id', 'total_price', 'createddate', 'datekey','currencykey']].sort_values(by=['id']).drop_duplicates()\n",
    "\n",
    "headers = [\"orderid\",\"customerid\",\"total_price\", \"orderdatetime\", \"datekey\",\"currencykey\"]\n",
    "\n",
    "df_orders.columns = headers\n",
    "\n",
    "df_orders.head(2)"
   ]
  },
  {
   "cell_type": "code",
   "execution_count": 13,
   "metadata": {},
   "outputs": [
    {
     "data": {
      "text/html": [
       "<div>\n",
       "<style scoped>\n",
       "    .dataframe tbody tr th:only-of-type {\n",
       "        vertical-align: middle;\n",
       "    }\n",
       "\n",
       "    .dataframe tbody tr th {\n",
       "        vertical-align: top;\n",
       "    }\n",
       "\n",
       "    .dataframe thead th {\n",
       "        text-align: right;\n",
       "    }\n",
       "</style>\n",
       "<table border=\"1\" class=\"dataframe\">\n",
       "  <thead>\n",
       "    <tr style=\"text-align: right;\">\n",
       "      <th></th>\n",
       "      <th>prodorderid</th>\n",
       "      <th>orderid</th>\n",
       "      <th>productid</th>\n",
       "      <th>saleprice</th>\n",
       "      <th>datekey</th>\n",
       "      <th>currencykey</th>\n",
       "    </tr>\n",
       "  </thead>\n",
       "  <tbody>\n",
       "    <tr>\n",
       "      <th>31</th>\n",
       "      <td>997208</td>\n",
       "      <td>1104846479586545</td>\n",
       "      <td>278266679</td>\n",
       "      <td>49.99</td>\n",
       "      <td>20200222</td>\n",
       "      <td>2</td>\n",
       "    </tr>\n",
       "    <tr>\n",
       "      <th>32</th>\n",
       "      <td>759658</td>\n",
       "      <td>1104846479586545</td>\n",
       "      <td>573794972</td>\n",
       "      <td>36.99</td>\n",
       "      <td>20200222</td>\n",
       "      <td>2</td>\n",
       "    </tr>\n",
       "  </tbody>\n",
       "</table>\n",
       "</div>"
      ],
      "text/plain": [
       "    prodorderid           orderid  productid  saleprice   datekey currencykey\n",
       "31       997208  1104846479586545  278266679      49.99  20200222           2\n",
       "32       759658  1104846479586545  573794972      36.99  20200222           2"
      ]
     },
     "execution_count": 13,
     "metadata": {},
     "output_type": "execute_result"
    }
   ],
   "source": [
    "#Orderdetails dataframe\n",
    "\n",
    "df_orderdetail =  df[['od_id','id','od_product_id','od_price','datekey','currencykey' ]].sort_values(by=['id']).drop_duplicates()\n",
    "\n",
    "\n",
    "headers = [\"prodorderid\",\"orderid\",\"productid\", \"saleprice\", \"datekey\",\"currencykey\"]\n",
    "\n",
    "df_orderdetail.columns = headers\n",
    "\n",
    "df_orderdetail.head(2)"
   ]
  },
  {
   "cell_type": "markdown",
   "metadata": {},
   "source": []
  },
  {
   "cell_type": "code",
   "execution_count": null,
   "metadata": {},
   "outputs": [],
   "source": [
    "\n"
   ]
  },
  {
   "cell_type": "code",
   "execution_count": 14,
   "metadata": {},
   "outputs": [],
   "source": [
    "# Insert data into customer table \n",
    "\n",
    "df_customer.to_sql('temp_DimCustomer', con=engine, if_exists = 'replace')\n",
    "\n",
    "connection = engine.connect()\n",
    "\n",
    "\n",
    "query = \"Insert into [DimCustomer] select t.CustomerID, t.CustomerName, t.CustomerEmail \\\n",
    "  from temp_DimCustomer t left join [DimCustomer] d on t.customerid = d.customerid \\\n",
    "  where d.customerid is null \\\n",
    " drop table temp_DimCustomer\" \n",
    "\n",
    "connection.execute(query)\n",
    "connection.close()\n",
    "\n"
   ]
  },
  {
   "cell_type": "code",
   "execution_count": 15,
   "metadata": {},
   "outputs": [],
   "source": [
    "# Insert data into Product table \n",
    "\n",
    "df_product.to_sql('temp_DimProduct', con=engine, if_exists = 'replace')\n",
    "\n",
    "connection = engine.connect()\n",
    "\n",
    "\n",
    "query = \"INSERT INTO [DimProduct] SELECT t.ProductID, t.ProductSku, t.ProductName  \\\n",
    "         FROM temp_DimProduct t LEFT JOIN [DimProduct] p ON t.ProductID = p.ProductID \\\n",
    "         WHERE p.ProductID IS NULL \\\n",
    "         DROP TABLE temp_DimProduct\"\n",
    "\n",
    "connection.execute(query)\n",
    "connection.close()"
   ]
  },
  {
   "cell_type": "code",
   "execution_count": 16,
   "metadata": {},
   "outputs": [],
   "source": [
    "# Insert data into Exchange Table \n",
    "\n",
    "df_exchange.to_sql('temp_FactExchangeRate', con=engine, if_exists = 'replace', dtype = {\"exchangedate\": sqlalchemy.DateTime()})\n",
    "\n",
    "connection = engine.connect()\n",
    "\n",
    "\n",
    "query = \"INSERT INTO [FactExchangeRate](DateKey,CurrencyKey,OrderDate,ExchangeRate) SELECT t.DateKey, \\\n",
    "         t.CurrencyKey, t.exchangedate,t.ExchangeRate FROM temp_FactExchangeRate t LEFT JOIN [FactExchangeRate] E \\\n",
    "         ON t.DateKey = E.DateKey and t.CurrencyKey = E.CurrencyKey \\\n",
    "         WHERE (E.CurrencyKey IS NULL OR E.DateKey IS NULL) \\\n",
    "         DROP TABLE temp_FactExchangeRate\"\n",
    "\n",
    "connection.execute(query)\n",
    "connection.close()"
   ]
  },
  {
   "cell_type": "code",
   "execution_count": 17,
   "metadata": {},
   "outputs": [],
   "source": [
    "# Insert data into FactOrder Table\n",
    "\n",
    "df_orders.to_sql('temp_FactOrder', con=engine, if_exists = 'replace',dtype = {\"orderdatetime\": sqlalchemy.DateTime()})\n",
    "\n",
    "connection = engine.connect()\n",
    "\n",
    "\n",
    "query = \"INSERT INTO [FactOrder] SELECT t.orderid, t.Customerid,t.total_price,t.orderdatetime,t.datekey,t.currencykey \\\n",
    "         FROM temp_FactOrder t LEFT JOIN [FactOrder] O \\\n",
    "         ON t.orderid = O.OrderID \\\n",
    "         WHERE O.OrderID IS NULL \\\n",
    "         DROP TABLE temp_FactOrder\"\n",
    "\n",
    "connection.execute(query)\n",
    "connection.close()\n"
   ]
  },
  {
   "cell_type": "code",
   "execution_count": 18,
   "metadata": {},
   "outputs": [],
   "source": [
    "# insert data into OrderDetail\n",
    "\n",
    "df_orderdetail.to_sql('temp_FactOrderDetail', con=engine, if_exists = 'replace')\n",
    "\n",
    "connection = engine.connect()\n",
    "\n",
    "\n",
    "query = \"INSERT INTO [FactOrderDetail](OrderID,ProductOrderID,ProductID,SalePrice,DateKey,CurrencyKey) \\\n",
    "         SELECT t.orderid, t.prodorderid,t.productid,t.saleprice,t.datekey,t.currencykey \\\n",
    "         FROM temp_FactOrderDetail t LEFT JOIN [FactOrderDetail] OD \\\n",
    "         ON (t.orderid = OD.OrderID and t.productid = OD.productid) \\\n",
    "         WHERE OD.OrderdetailID is null \\\n",
    "         DROP TABLE temp_FactOrderDetail\"\n",
    "\n",
    "connection.execute(query)\n",
    "connection.close()"
   ]
  },
  {
   "cell_type": "code",
   "execution_count": null,
   "metadata": {},
   "outputs": [],
   "source": []
  }
 ],
 "metadata": {
  "kernelspec": {
   "display_name": "Python 3",
   "language": "python",
   "name": "python3"
  },
  "language_info": {
   "codemirror_mode": {
    "name": "ipython",
    "version": 3
   },
   "file_extension": ".py",
   "mimetype": "text/x-python",
   "name": "python",
   "nbconvert_exporter": "python",
   "pygments_lexer": "ipython3",
   "version": "3.8.5"
  }
 },
 "nbformat": 4,
 "nbformat_minor": 4
}
